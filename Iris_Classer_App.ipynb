{
 "cells": [
  {
   "cell_type": "code",
   "execution_count": 6,
   "id": "1819abbe",
   "metadata": {},
   "outputs": [],
   "source": [
    "import streamlit as st\n",
    "import pandas as pd\n",
    "import joblib"
   ]
  },
  {
   "cell_type": "code",
   "execution_count": 7,
   "id": "bbeb3e51",
   "metadata": {},
   "outputs": [
    {
     "data": {
      "text/plain": [
       "'1.27.2'"
      ]
     },
     "execution_count": 7,
     "metadata": {},
     "output_type": "execute_result"
    }
   ],
   "source": [
    "st.__version__"
   ]
  },
  {
   "cell_type": "code",
   "execution_count": 9,
   "id": "f84b8374",
   "metadata": {},
   "outputs": [
    {
     "data": {
      "text/plain": [
       "'1.4.2'"
      ]
     },
     "execution_count": 9,
     "metadata": {},
     "output_type": "execute_result"
    }
   ],
   "source": [
    "pd.__version__"
   ]
  },
  {
   "cell_type": "code",
   "execution_count": 10,
   "id": "f99bc693",
   "metadata": {},
   "outputs": [
    {
     "data": {
      "text/plain": [
       "'1.1.0'"
      ]
     },
     "execution_count": 10,
     "metadata": {},
     "output_type": "execute_result"
    }
   ],
   "source": [
    "joblib.__version__"
   ]
  },
  {
   "cell_type": "code",
   "execution_count": 2,
   "id": "3cf990a1",
   "metadata": {},
   "outputs": [
    {
     "name": "stderr",
     "output_type": "stream",
     "text": [
      "2023-11-03 15:34:23.352 \n",
      "  \u001b[33m\u001b[1mWarning:\u001b[0m to view this Streamlit app on a browser, run it with the following\n",
      "  command:\n",
      "\n",
      "    streamlit run D:\\Anaconda\\lib\\site-packages\\ipykernel_launcher.py [ARGUMENTS]\n"
     ]
    }
   ],
   "source": [
    "# Title\n",
    "st.header(\"Iris Classifier App\")\n",
    "\n",
    "# Input bar 1\n",
    "sepal_l = st.number_input(\"Enter Mileage\")\n",
    "\n",
    "# Input bar 2\n",
    "sepal_w = st.number_input(\"Enter Liter\")\n",
    "\n",
    "# Input bar 3\n",
    "petal_l = st.number_input(\"Enter Liter\")\n",
    "\n",
    "# Input bar 4\n",
    "petal_w = st.number_input(\"Enter Liter\")\n",
    "\n",
    "# If button is pressed\n",
    "if st.button(\"See your species\"):\n",
    "    \n",
    "    # Unpickle classifier\n",
    "    regmodel = joblib.load(\"iris_classer.pkl\")\n",
    "    \n",
    "    # Store inputs into dataframe\n",
    "    x = pd.DataFrame([[sepal_l, sepal_w, petal_l, petal_w]], columns = [\"sepal_length\", \"sepal_width\", \"petal_length\", \"petal_width\"])\n",
    "     \n",
    "    # Get prediction\n",
    "    prediction = iris_classer.predict(x)\n",
    "    \n",
    "    # Output prediction\n",
    "    st.text(f\"The price is {prediction}\")"
   ]
  },
  {
   "cell_type": "code",
   "execution_count": null,
   "id": "ec4e6ddc",
   "metadata": {},
   "outputs": [],
   "source": [
    "streamlit run Iris_Classer.py serverport"
   ]
  }
 ],
 "metadata": {
  "kernelspec": {
   "display_name": "Python 3 (ipykernel)",
   "language": "python",
   "name": "python3"
  },
  "language_info": {
   "codemirror_mode": {
    "name": "ipython",
    "version": 3
   },
   "file_extension": ".py",
   "mimetype": "text/x-python",
   "name": "python",
   "nbconvert_exporter": "python",
   "pygments_lexer": "ipython3",
   "version": "3.9.12"
  }
 },
 "nbformat": 4,
 "nbformat_minor": 5
}
